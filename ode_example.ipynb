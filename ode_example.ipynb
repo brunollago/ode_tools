{
 "cells": [
  {
   "cell_type": "code",
   "execution_count": 1,
   "metadata": {},
   "outputs": [],
   "source": [
    "from sympy import *\n",
    "import ode_tools\n",
    "\n",
    "init_printing()"
   ]
  },
  {
   "attachments": {},
   "cell_type": "markdown",
   "metadata": {},
   "source": [
    "# Resolvendo uma EDO de 1a ordem pelo método do fator integrante\n",
    "Podemos usar o método abaixo para resolver uma equação do tipo\n",
    "$$a_1(x) y' + a_0(x)y = g(x)$$"
   ]
  },
  {
   "cell_type": "code",
   "execution_count": 2,
   "metadata": {},
   "outputs": [
    {
     "name": "stdout",
     "output_type": "stream",
     "text": [
      "Escrevendo na forma padrão, temos:\n"
     ]
    },
    {
     "data": {
      "image/png": "[encoded data removed]",
      "text/latex": [
       "$\\displaystyle x y{\\left(x \\right)} + \\frac{d}{d x} y{\\left(x \\right)} = x + 1$"
      ],
      "text/plain": [
       "         d               \n",
       "x⋅y(x) + ──(y(x)) = x + 1\n",
       "         dx              "
      ]
     },
     "metadata": {},
     "output_type": "display_data"
    },
    {
     "name": "stdout",
     "output_type": "stream",
     "text": [
      "O fator integrante é dado por:\n"
     ]
    },
    {
     "data": {
      "image/png": "[encoded data removed]",
      "text/latex": [
       "$\\displaystyle e^{\\int x\\, dx} = e^{\\frac{x^{2}}{2}}$"
      ],
      "text/plain": [
       "            2\n",
       " ⌠         x \n",
       " ⎮ x dx    ──\n",
       " ⌡         2 \n",
       "ℯ       = ℯ  "
      ]
     },
     "metadata": {},
     "output_type": "display_data"
    },
    {
     "name": "stdout",
     "output_type": "stream",
     "text": [
      "Multiplicando a equação pelo fator integrante, chegamos a:\n"
     ]
    },
    {
     "data": {
      "text/latex": [
       "$\\displaystyle x y{\\left(x \\right)} e^{\\frac{x^{2}}{2}} + e^{\\frac{x^{2}}{2}} \\frac{d}{d x} y{\\left(x \\right)} = \\left(x + 1\\right) e^{\\frac{x^{2}}{2}}$"
      ],
      "text/plain": [
       "<IPython.core.display.Math object>"
      ]
     },
     "metadata": {},
     "output_type": "display_data"
    },
    {
     "name": "stdout",
     "output_type": "stream",
     "text": [
      "Identificando o lado esquerdo da equação como a derivada de um produto, podemos escrever:\n"
     ]
    },
    {
     "data": {
      "text/latex": [
       "$\\displaystyle \\frac{d}{d x} y{\\left(x \\right)} e^{\\frac{x^{2}}{2}} = \\left(x + 1\\right) e^{\\frac{x^{2}}{2}}$"
      ],
      "text/plain": [
       "<IPython.core.display.Math object>"
      ]
     },
     "metadata": {},
     "output_type": "display_data"
    },
    {
     "name": "stdout",
     "output_type": "stream",
     "text": [
      "Agora podemos integrar a equação:\n"
     ]
    },
    {
     "data": {
      "image/png": "[encoded data removed]",
      "text/latex": [
       "$\\displaystyle y{\\left(x \\right)} e^{\\frac{x^{2}}{2}} = \\int \\left(x + 1\\right) e^{\\frac{x^{2}}{2}}\\, dx$"
      ],
      "text/plain": [
       "           ⌠               \n",
       "       2   ⎮           2   \n",
       "      x    ⎮          x    \n",
       "      ──   ⎮          ──   \n",
       "      2    ⎮          2    \n",
       "y(x)⋅ℯ   = ⎮ (x + 1)⋅ℯ   dx\n",
       "           ⌡               "
      ]
     },
     "metadata": {},
     "output_type": "display_data"
    },
    {
     "name": "stdout",
     "output_type": "stream",
     "text": [
      "Por fim chegamos ao resultado:\n"
     ]
    },
    {
     "data": {
      "image/png": "[encoded data removed]",
      "text/latex": [
       "$\\displaystyle y{\\left(x \\right)} = \\left(c + e^{\\frac{x^{2}}{2}} + \\frac{\\sqrt{2} \\sqrt{\\pi} \\operatorname{erfi}{\\left(\\frac{\\sqrt{2} x}{2} \\right)}}{2}\\right) e^{- \\frac{x^{2}}{2}}$"
      ],
      "text/plain": [
       "       ⎛      2                   ⎞    2 \n",
       "       ⎜     x              ⎛√2⋅x⎞⎟  -x  \n",
       "       ⎜     ──   √2⋅√π⋅erfi⎜────⎟⎟  ────\n",
       "       ⎜     2              ⎝ 2  ⎠⎟   2  \n",
       "y(x) = ⎜c + ℯ   + ────────────────⎟⋅ℯ    \n",
       "       ⎝                 2        ⎠      "
      ]
     },
     "metadata": {},
     "output_type": "display_data"
    }
   ],
   "source": [
    "x = symbols('x')\n",
    "a_1 = 1\n",
    "a_0 = x\n",
    "g = 1+x\n",
    "\n",
    "ode_tools.ode1.solve_integrate_factor(a_1, a_0, g)"
   ]
  },
  {
   "attachments": {},
   "cell_type": "markdown",
   "metadata": {},
   "source": [
    "# Resolvendo uma EDO de 1a ordem pelo método de separação de variáveis\n",
    "Podemos usar o método abaixo para resolver uma equação do tipo\n",
    "$$f_l(x)g_l(y)\\dfrac{dy}{dx}=f_r(x)g_r(y)$$"
   ]
  },
  {
   "cell_type": "code",
   "execution_count": 3,
   "metadata": {},
   "outputs": [
    {
     "name": "stdout",
     "output_type": "stream",
     "text": [
      "Podemos rescrever a equação da forma:\n"
     ]
    },
    {
     "data": {
      "image/png": "[encoded data removed]",
      "text/latex": [
       "$\\displaystyle \\frac{d}{d x} y{\\left(x \\right)} = x y$"
      ],
      "text/plain": [
       "d             \n",
       "──(y(x)) = x⋅y\n",
       "dx            "
      ]
     },
     "metadata": {},
     "output_type": "display_data"
    },
    {
     "name": "stdout",
     "output_type": "stream",
     "text": [
      "Ou ainda:\n"
     ]
    },
    {
     "data": {
      "image/png": "[encoded data removed]",
      "text/latex": [
       "$\\displaystyle dy = dx x y$"
      ],
      "text/plain": [
       "dy = dx⋅x⋅y"
      ]
     },
     "metadata": {},
     "output_type": "display_data"
    },
    {
     "name": "stdout",
     "output_type": "stream",
     "text": [
      "Separando as variáveis, temos que:\n"
     ]
    },
    {
     "data": {
      "image/png": "[encoded data removed]",
      "text/latex": [
       "$\\displaystyle \\frac{dy}{y} = dx x$"
      ],
      "text/plain": [
       "dy       \n",
       "── = dx⋅x\n",
       "y        "
      ]
     },
     "metadata": {},
     "output_type": "display_data"
    },
    {
     "name": "stdout",
     "output_type": "stream",
     "text": [
      "O próximo passo é integrar a equação:\n"
     ]
    },
    {
     "data": {
      "image/png": "[encoded data removed]",
      "text/latex": [
       "$\\displaystyle \\int \\frac{1}{y}\\, dy = \\int x\\, dx$"
      ],
      "text/plain": [
       "⌠              \n",
       "⎮ 1      ⌠     \n",
       "⎮ ─ dy = ⎮ x dx\n",
       "⎮ y      ⌡     \n",
       "⌡              "
      ]
     },
     "metadata": {},
     "output_type": "display_data"
    },
    {
     "name": "stdout",
     "output_type": "stream",
     "text": [
      "O que resulta em:\n"
     ]
    },
    {
     "data": {
      "image/png": "[encoded data removed]",
      "text/latex": [
       "$\\displaystyle \\log{\\left(y \\right)} = c + \\frac{x^{2}}{2}$"
      ],
      "text/plain": [
       "              2\n",
       "             x \n",
       "log(y) = c + ──\n",
       "             2 "
      ]
     },
     "metadata": {},
     "output_type": "display_data"
    },
    {
     "name": "stdout",
     "output_type": "stream",
     "text": [
      "Tentamos encontrar uma expressão explícita de y(x):\n"
     ]
    },
    {
     "data": {
      "image/png": "[encoded data removed]",
      "text/latex": [
       "$\\displaystyle y = e^{c + \\frac{x^{2}}{2}}$"
      ],
      "text/plain": [
       "          2\n",
       "         x \n",
       "     c + ──\n",
       "         2 \n",
       "y = ℯ      "
      ]
     },
     "metadata": {},
     "output_type": "display_data"
    },
    {
     "name": "stdout",
     "output_type": "stream",
     "text": [
      "E simplificar o resultado:\n"
     ]
    },
    {
     "data": {
      "image/png": "[encoded data removed]",
      "text/latex": [
       "$\\displaystyle y = e^{c} e^{\\frac{x^{2}}{2}}$"
      ],
      "text/plain": [
       "         2\n",
       "        x \n",
       "        ──\n",
       "     c  2 \n",
       "y = ℯ ⋅ℯ  "
      ]
     },
     "metadata": {},
     "output_type": "display_data"
    }
   ],
   "source": [
    "x = symbols('x')\n",
    "y = symbols('y')\n",
    "fr_x = x\n",
    "gr_y = y\n",
    "fl_x = 1\n",
    "gl_y = 1\n",
    "\n",
    "ode_tools.ode1.solve_separable_variables(fr_x, gr_y, fl_x, gl_y)"
   ]
  },
  {
   "attachments": {},
   "cell_type": "markdown",
   "metadata": {},
   "source": [
    "# Resolvendo uma EDO de 1a ordem exata\n",
    "Podemos usar o método abaixo para resolver uma equação do tipo\n",
    "$$M(x,y)dx+N(x,y)dy=0$$\n",
    "onde\n",
    "$$\\dfrac{\\partial M}{\\partial y} = \\dfrac{\\partial N}{\\partial x}$$"
   ]
  },
  {
   "cell_type": "code",
   "execution_count": 4,
   "metadata": {},
   "outputs": [
    {
     "name": "stdout",
     "output_type": "stream",
     "text": [
      "Escrevendo na forma padrão, temos:\n"
     ]
    },
    {
     "data": {
      "image/png": "[encoded data removed]",
      "text/latex": [
       "$\\displaystyle 2 dx x y + dy \\left(x^{2} - 1\\right) = 0$"
      ],
      "text/plain": [
       "              ⎛ 2    ⎞    \n",
       "2⋅dx⋅x⋅y + dy⋅⎝x  - 1⎠ = 0"
      ]
     },
     "metadata": {},
     "output_type": "display_data"
    },
    {
     "name": "stdout",
     "output_type": "stream",
     "text": [
      "Vamos começar utilizando M:\n"
     ]
    },
    {
     "data": {
      "text/latex": [
       "$\\displaystyle \\dfrac{\\partial f}{\\partial x}=M(x,y)\\rightarrow\\frac{d}{d x} f = 2 x y$"
      ],
      "text/plain": [
       "<IPython.core.display.Math object>"
      ]
     },
     "metadata": {},
     "output_type": "display_data"
    },
    {
     "name": "stdout",
     "output_type": "stream",
     "text": [
      "Integrando a equação, chegamos ao seguinte resultado:\n"
     ]
    },
    {
     "data": {
      "image/png": "[encoded data removed]",
      "text/latex": [
       "$\\displaystyle f = c(y) + x^{2} y$"
      ],
      "text/plain": [
       "            2  \n",
       "f = c(y) + x ⋅y"
      ]
     },
     "metadata": {},
     "output_type": "display_data"
    },
    {
     "name": "stdout",
     "output_type": "stream",
     "text": [
      "Agora derivamos em relação a y e utilizamos N:\n"
     ]
    },
    {
     "data": {
      "text/latex": [
       "$\\displaystyle \\dfrac{d c}{d y}=N(x,y) -x^{2}\\rightarrow\\frac{d}{d y} c(y) = -1$"
      ],
      "text/plain": [
       "<IPython.core.display.Math object>"
      ]
     },
     "metadata": {},
     "output_type": "display_data"
    },
    {
     "name": "stdout",
     "output_type": "stream",
     "text": [
      "Após a integração, encontramos o fator c:\n"
     ]
    },
    {
     "data": {
      "image/png": "[encoded data removed]",
      "text/latex": [
       "$\\displaystyle c(y) = - y$"
      ],
      "text/plain": [
       "c(y) = -y"
      ]
     },
     "metadata": {},
     "output_type": "display_data"
    },
    {
     "name": "stdout",
     "output_type": "stream",
     "text": [
      "E o resultado final é dado por:\n"
     ]
    },
    {
     "data": {
      "image/png": "[encoded data removed]",
      "text/latex": [
       "$\\displaystyle f = x^{2} y - y$"
      ],
      "text/plain": [
       "     2      \n",
       "f = x ⋅y - y"
      ]
     },
     "metadata": {},
     "output_type": "display_data"
    }
   ],
   "source": [
    "x = symbols('x')\n",
    "y = symbols('y')\n",
    "M_xy = 2*x*y\n",
    "N_xy = (x**2 - 1)\n",
    "\n",
    "ode_tools.ode1.solve_exact_equations(M_xy, N_xy)"
   ]
  },
  {
   "attachments": {},
   "cell_type": "markdown",
   "metadata": {},
   "source": [
    "# Resolvendo uma EDO de 2a ordem linear homogênea com coeficientes constantes\n",
    "Podemos usar o método abaixo para resolver uma equação do tipo\n",
    "$$ay''+by'+c=0$$\n",
    "onde a solução tentativa é da forma $e^{mx}$"
   ]
  },
  {
   "cell_type": "code",
   "execution_count": 2,
   "metadata": {},
   "outputs": [
    {
     "name": "stdout",
     "output_type": "stream",
     "text": [
      "A equação diferencial é a seguinte:\n"
     ]
    },
    {
     "data": {
      "image/png": "[encoded data removed]",
      "text/latex": [
       "$\\displaystyle y + y' + y'' = 0$"
      ],
      "text/plain": [
       "y + y' + y'' = 0"
      ]
     },
     "metadata": {},
     "output_type": "display_data"
    },
    {
     "name": "stdout",
     "output_type": "stream",
     "text": [
      "Neste caso, a equação auxiliar é:\n"
     ]
    },
    {
     "data": {
      "image/png": "[encoded data removed]",
      "text/latex": [
       "$\\displaystyle m^{2} + m + 1 = 0$"
      ],
      "text/plain": [
       " 2            \n",
       "m  + m + 1 = 0"
      ]
     },
     "metadata": {},
     "output_type": "display_data"
    },
    {
     "name": "stdout",
     "output_type": "stream",
     "text": [
      "Com solução para m:\n"
     ]
    },
    {
     "data": {
      "image/png": "[encoded data removed]",
      "text/latex": [
       "$\\displaystyle \\left[ - \\frac{1}{2} - \\frac{\\sqrt{3} i}{2}, \\  - \\frac{1}{2} + \\frac{\\sqrt{3} i}{2}\\right]$"
      ],
      "text/plain": [
       "⎡  1   √3⋅ⅈ    1   √3⋅ⅈ⎤\n",
       "⎢- ─ - ────, - ─ + ────⎥\n",
       "⎣  2    2      2    2  ⎦"
      ]
     },
     "metadata": {},
     "output_type": "display_data"
    },
    {
     "name": "stdout",
     "output_type": "stream",
     "text": [
      "Neste caso, as raízes são complexas conjugadas, resultando em:\n"
     ]
    },
    {
     "data": {
      "image/png": "[encoded data removed]",
      "text/latex": [
       "$\\displaystyle y = \\left(c_{1} \\cos{\\left(\\frac{\\sqrt{3} x}{2} \\right)} + c_{2} \\cos{\\left(\\frac{\\sqrt{3} x}{2} \\right)}\\right) e^{- \\frac{x}{2}}$"
      ],
      "text/plain": [
       "                                   -x \n",
       "                                   ───\n",
       "    ⎛      ⎛√3⋅x⎞         ⎛√3⋅x⎞⎞   2 \n",
       "y = ⎜c₁⋅cos⎜────⎟ + c₂⋅cos⎜────⎟⎟⋅ℯ   \n",
       "    ⎝      ⎝ 2  ⎠         ⎝ 2  ⎠⎠     "
      ]
     },
     "metadata": {},
     "output_type": "display_data"
    }
   ],
   "source": [
    "a = 1\n",
    "b = 1\n",
    "c = 1\n",
    "ode_tools.ode2.solve_lin_h_coef_const(a, b, c)"
   ]
  },
  {
   "cell_type": "code",
   "execution_count": 4,
   "metadata": {},
   "outputs": [
    {
     "name": "stdout",
     "output_type": "stream",
     "text": [
      "Escrevendo na forma padrão, temos:\n"
     ]
    },
    {
     "data": {
      "image/png": "[encoded data removed]",
      "text/latex": [
       "$\\displaystyle 4.0 y{\\left(x \\right)} - 4.0 \\frac{d}{d x} y{\\left(x \\right)} + \\frac{d^{2}}{d x^{2}} y{\\left(x \\right)} = 0$"
      ],
      "text/plain": [
       "                            2          \n",
       "               d           d           \n",
       "4.0⋅y(x) - 4.0⋅──(y(x)) + ───(y(x)) = 0\n",
       "               dx           2          \n",
       "                          dx           "
      ]
     },
     "metadata": {},
     "output_type": "display_data"
    },
    {
     "name": "stdout",
     "output_type": "stream",
     "text": [
      "Dada a solução:\n"
     ]
    },
    {
     "data": {
      "text/latex": [
       "$\\displaystyle y_1=2 e^{2 x}$"
      ],
      "text/plain": [
       "<IPython.core.display.Math object>"
      ]
     },
     "metadata": {},
     "output_type": "display_data"
    },
    {
     "name": "stdout",
     "output_type": "stream",
     "text": [
      "Uma segunda solução L.I. é dada por:\n"
     ]
    },
    {
     "data": {
      "text/latex": [
       "$\\displaystyle y_{2}=y_{1} \\int \\frac{e^{- \\int P(x)\\, dx}}{y_{1}^{2}}\\, dx=2 e^{2 x} \\int \\frac{e^{- 4 x} e^{- \\int \\left(-4.0\\right)\\, dx}}{4}\\, dx$"
      ],
      "text/plain": [
       "<IPython.core.display.Math object>"
      ]
     },
     "metadata": {},
     "output_type": "display_data"
    },
    {
     "name": "stdout",
     "output_type": "stream",
     "text": [
      "Resolvendo a integral chegamos a:\n"
     ]
    },
    {
     "data": {
      "image/png": "[encoded data removed]",
      "text/latex": [
       "$\\displaystyle y_{2} = \\frac{x e^{2 x}}{2}$"
      ],
      "text/plain": [
       "        2⋅x\n",
       "     x⋅ℯ   \n",
       "y₂ = ──────\n",
       "       2   "
      ]
     },
     "metadata": {},
     "output_type": "display_data"
    },
    {
     "name": "stdout",
     "output_type": "stream",
     "text": [
      "E a solução geral é dada por:\n"
     ]
    },
    {
     "data": {
      "image/png": "[encoded data removed]",
      "text/latex": [
       "$\\displaystyle y = 2 c_{1} e^{2 x} + \\frac{c_{2} x e^{2 x}}{2}$"
      ],
      "text/plain": [
       "                      2⋅x\n",
       "          2⋅x   c₂⋅x⋅ℯ   \n",
       "y = 2⋅c₁⋅ℯ    + ─────────\n",
       "                    2    "
      ]
     },
     "metadata": {},
     "output_type": "display_data"
    }
   ],
   "source": [
    "x = symbols('x')\n",
    "a_2 = 1\n",
    "a_1 = -4\n",
    "a_0 = 4\n",
    "y_1 = 2*exp(2*x) # Think how to resolve constants\n",
    "\n",
    "ode_tools.ode2.solve_reduction_of_order(a_2, a_1, a_0, y_1)"
   ]
  },
  {
   "cell_type": "code",
   "execution_count": null,
   "metadata": {},
   "outputs": [],
   "source": []
  }
 ],
 "metadata": {
  "kernelspec": {
   "display_name": "Python 3",
   "language": "python",
   "name": "python3"
  },
  "language_info": {
   "codemirror_mode": {
    "name": "ipython",
    "version": 3
   },
   "file_extension": ".py",
   "mimetype": "text/x-python",
   "name": "python",
   "nbconvert_exporter": "python",
   "pygments_lexer": "ipython3",
   "version": "3.10.6"
  },
  "orig_nbformat": 4
 },
 "nbformat": 4,
 "nbformat_minor": 2
}
